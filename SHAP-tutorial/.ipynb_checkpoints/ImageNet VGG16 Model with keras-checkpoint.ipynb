{
 "cells": [
  {
   "cell_type": "code",
   "execution_count": 2,
   "metadata": {},
   "outputs": [],
   "source": [
    "import keras\n",
    "from keras.applications.vgg16 import VGG16, preprocess_input, decode_predictions\n",
    "from keras.preprocessing import image\n",
    "import requests\n",
    "from skimage.segmentation import slic\n",
    "import matplotlib.pylab as pl\n",
    "import numpy as np\n",
    "import shap\n",
    "\n",
    "# load model data\n",
    "r = requests.get('https://s3.amazonaws.com/deep-learning-models/image-models/imagenet_class_index.json')\n",
    "feature_names = r.json()\n",
    "model = VGG16()\n",
    "\n",
    "# load an image\n",
    "file = \"cat_mouse.jpg\"\n",
    "img = image.load_img(file, target_size=(224, 224))\n",
    "img_orig = image.img_to_array(img)\n",
    "\n",
    "# segment the image so we don't have to explain every pixel\n",
    "segments_slic = slic(img, n_segments=50, compactness=30, sigma=3)"
   ]
  },
  {
   "cell_type": "code",
   "execution_count": null,
   "metadata": {},
   "outputs": [],
   "source": []
  }
 ],
 "metadata": {
  "kernelspec": {
   "display_name": "Python 3",
   "language": "python",
   "name": "python3"
  },
  "language_info": {
   "codemirror_mode": {
    "name": "ipython",
    "version": 3
   },
   "file_extension": ".py",
   "mimetype": "text/x-python",
   "name": "python",
   "nbconvert_exporter": "python",
   "pygments_lexer": "ipython3",
   "version": "3.6.9"
  }
 },
 "nbformat": 4,
 "nbformat_minor": 2
}
